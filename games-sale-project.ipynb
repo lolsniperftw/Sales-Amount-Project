{
 "cells": [
  {
   "cell_type": "code",
   "execution_count": 1,
   "metadata": {},
   "outputs": [],
   "source": [
    "import requests\n",
    "import lxml\n",
    "import pandas as pd\n",
    "from bs4 import BeautifulSoup, SoupStrainer"
   ]
  },
  {
   "cell_type": "code",
   "execution_count": 2,
   "metadata": {},
   "outputs": [],
   "source": [
    "def load_to_csv(df: pd.DataFrame):\n",
    "    df.to_csv('dataset.csv', index=False)"
   ]
  },
  {
   "cell_type": "code",
   "execution_count": 3,
   "metadata": {},
   "outputs": [],
   "source": [
    "def ranges_splitter(ranges):\n",
    "    ranges = ranges.replace(\" \",\"\")\n",
    "    min, max = ranges.split('..')\n",
    "    return min.replace(\",\",\"\"), max.replace(\",\",\"\")"
   ]
  },
  {
   "cell_type": "code",
   "execution_count": 4,
   "metadata": {},
   "outputs": [],
   "source": [
    "def get_data_from_steam(app_id: str):\n",
    "    pass"
   ]
  },
  {
   "cell_type": "code",
   "execution_count": 5,
   "metadata": {},
   "outputs": [],
   "source": [
    "def get_data_from_steamspy_game_page(app_id: str):\n",
    "    url = f\"https://steamspy.com/year/{app_id}\"\n",
    "    only_p = SoupStrainer(\"p\")\n",
    "    request = requests.get(url)\n",
    "    soup = BeautifulSoup(request.content, 'lxml', parse_only=only_p)\n",
    "    print('hello')\n",
    "    \n",
    "    pass"
   ]
  },
  {
   "cell_type": "code",
   "execution_count": 8,
   "metadata": {},
   "outputs": [],
   "source": [
    "def get_data_from_steamspy_into_dataframe(year: int):\n",
    "    url = f\"https://steamspy.com/year/{year}\"\n",
    "    game_names = list()\n",
    "    developer = list()\n",
    "    minimum_owners = list()\n",
    "    maximum_owners = list()\n",
    "    request = requests.get(url)\n",
    "    only_the_table = SoupStrainer(\"table\")\n",
    "    soup = BeautifulSoup(request.content, 'lxml', parse_only=only_the_table)\n",
    "    tbl = soup(\"table\", attrs={\"class\":\"table\"})[0]\n",
    "    for row in tbl(\"tr\"):\n",
    "        cells = row(\"td\")\n",
    "        if len(cells) > 0:\n",
    "            game_names.append(cells[1].a.text)\n",
    "            developer.append(cells[7].get_text())\n",
    "            min, max = ranges_splitter(cells[5].get_text())\n",
    "            minimum_owners.append(int(min))\n",
    "            maximum_owners.append(int(max))    \n",
    "            get_data_from_steamspy_game_page(cells[1].a['href'])\n",
    "    #print(len(game_names))\n",
    "    df = pd.DataFrame({ 'Game Name': game_names, \n",
    "                        'Developer': developer,\n",
    "                        'Minimum Owners': minimum_owners, \n",
    "                        'Maximum Owners': maximum_owners})\n",
    "    return df"
   ]
  },
  {
   "cell_type": "code",
   "execution_count": 9,
   "metadata": {},
   "outputs": [],
   "source": [
    "df = get_data_from_steamspy_into_dataframe(2021)\n",
    "load_to_csv(df)"
   ]
  },
  {
   "cell_type": "code",
   "execution_count": 10,
   "metadata": {},
   "outputs": [
    {
     "data": {
      "text/html": [
       "<div>\n",
       "<style scoped>\n",
       "    .dataframe tbody tr th:only-of-type {\n",
       "        vertical-align: middle;\n",
       "    }\n",
       "\n",
       "    .dataframe tbody tr th {\n",
       "        vertical-align: top;\n",
       "    }\n",
       "\n",
       "    .dataframe thead th {\n",
       "        text-align: right;\n",
       "    }\n",
       "</style>\n",
       "<table border=\"1\" class=\"dataframe\">\n",
       "  <thead>\n",
       "    <tr style=\"text-align: right;\">\n",
       "      <th></th>\n",
       "      <th>Game Name</th>\n",
       "      <th>Developer</th>\n",
       "      <th>Minimum Owners</th>\n",
       "      <th>Maximum Owners</th>\n",
       "    </tr>\n",
       "  </thead>\n",
       "  <tbody>\n",
       "    <tr>\n",
       "      <th>0</th>\n",
       "      <td>OPUS: Echo of Starsong</td>\n",
       "      <td>SIGONO INC.</td>\n",
       "      <td>50000</td>\n",
       "      <td>100000</td>\n",
       "    </tr>\n",
       "    <tr>\n",
       "      <th>1</th>\n",
       "      <td>Chicory: A Colorful Tale</td>\n",
       "      <td>Greg Lobanov, Alexis Dean-Jones, Lena Raine, M...</td>\n",
       "      <td>0</td>\n",
       "      <td>20000</td>\n",
       "    </tr>\n",
       "    <tr>\n",
       "      <th>2</th>\n",
       "      <td>Psychonauts 2</td>\n",
       "      <td>Double Fine Productions</td>\n",
       "      <td>100000</td>\n",
       "      <td>200000</td>\n",
       "    </tr>\n",
       "    <tr>\n",
       "      <th>3</th>\n",
       "      <td>It Takes Two</td>\n",
       "      <td>Hazelight</td>\n",
       "      <td>2000000</td>\n",
       "      <td>5000000</td>\n",
       "    </tr>\n",
       "    <tr>\n",
       "      <th>4</th>\n",
       "      <td>Lacuna – A Sci-Fi Noir Adventure</td>\n",
       "      <td>DigiTales Interactive</td>\n",
       "      <td>200000</td>\n",
       "      <td>500000</td>\n",
       "    </tr>\n",
       "    <tr>\n",
       "      <th>...</th>\n",
       "      <td>...</td>\n",
       "      <td>...</td>\n",
       "      <td>...</td>\n",
       "      <td>...</td>\n",
       "    </tr>\n",
       "    <tr>\n",
       "      <th>10389</th>\n",
       "      <td>Knights College</td>\n",
       "      <td>KAIJYU-09</td>\n",
       "      <td>20000</td>\n",
       "      <td>50000</td>\n",
       "    </tr>\n",
       "    <tr>\n",
       "      <th>10390</th>\n",
       "      <td>Flowers Blooming at the End of Summer</td>\n",
       "      <td>MidnightWorks</td>\n",
       "      <td>20000</td>\n",
       "      <td>50000</td>\n",
       "    </tr>\n",
       "    <tr>\n",
       "      <th>10391</th>\n",
       "      <td>Big Bia</td>\n",
       "      <td>Pixel House Games</td>\n",
       "      <td>20000</td>\n",
       "      <td>50000</td>\n",
       "    </tr>\n",
       "    <tr>\n",
       "      <th>10392</th>\n",
       "      <td>FINAL FANTASY III</td>\n",
       "      <td>Square Enix</td>\n",
       "      <td>50000</td>\n",
       "      <td>100000</td>\n",
       "    </tr>\n",
       "    <tr>\n",
       "      <th>10393</th>\n",
       "      <td>Dead Estate</td>\n",
       "      <td>Milkbar Lads</td>\n",
       "      <td>20000</td>\n",
       "      <td>50000</td>\n",
       "    </tr>\n",
       "  </tbody>\n",
       "</table>\n",
       "<p>10394 rows × 4 columns</p>\n",
       "</div>"
      ],
      "text/plain": [
       "                                    Game Name  \\\n",
       "0                      OPUS: Echo of Starsong   \n",
       "1                    Chicory: A Colorful Tale   \n",
       "2                               Psychonauts 2   \n",
       "3                                It Takes Two   \n",
       "4            Lacuna – A Sci-Fi Noir Adventure   \n",
       "...                                       ...   \n",
       "10389                         Knights College   \n",
       "10390   Flowers Blooming at the End of Summer   \n",
       "10391                                 Big Bia   \n",
       "10392                       FINAL FANTASY III   \n",
       "10393                             Dead Estate   \n",
       "\n",
       "                                               Developer  Minimum Owners  \\\n",
       "0                                            SIGONO INC.           50000   \n",
       "1      Greg Lobanov, Alexis Dean-Jones, Lena Raine, M...               0   \n",
       "2                                Double Fine Productions          100000   \n",
       "3                                              Hazelight         2000000   \n",
       "4                                  DigiTales Interactive          200000   \n",
       "...                                                  ...             ...   \n",
       "10389                                          KAIJYU-09           20000   \n",
       "10390                                      MidnightWorks           20000   \n",
       "10391                                  Pixel House Games           20000   \n",
       "10392                                        Square Enix           50000   \n",
       "10393                                       Milkbar Lads           20000   \n",
       "\n",
       "       Maximum Owners  \n",
       "0              100000  \n",
       "1               20000  \n",
       "2              200000  \n",
       "3             5000000  \n",
       "4              500000  \n",
       "...               ...  \n",
       "10389           50000  \n",
       "10390           50000  \n",
       "10391           50000  \n",
       "10392          100000  \n",
       "10393           50000  \n",
       "\n",
       "[10394 rows x 4 columns]"
      ]
     },
     "execution_count": 10,
     "metadata": {},
     "output_type": "execute_result"
    }
   ],
   "source": [
    "df\n",
    "df = pd.read_csv('./dataset.csv')"
   ]
  },
  {
   "cell_type": "code",
   "execution_count": null,
   "metadata": {},
   "outputs": [],
   "source": []
  },
  {
   "cell_type": "code",
   "execution_count": null,
   "metadata": {},
   "outputs": [],
   "source": [
    "\n"
   ]
  },
  {
   "cell_type": "code",
   "execution_count": null,
   "metadata": {},
   "outputs": [],
   "source": []
  }
 ],
 "metadata": {
  "interpreter": {
   "hash": "0ee7d49c30ccf2d28bf30359e0d545265a64f91f74ae74a2132c543c713b7482"
  },
  "kernelspec": {
   "display_name": "Python 3.10.0 64-bit",
   "language": "python",
   "name": "python3"
  },
  "language_info": {
   "codemirror_mode": {
    "name": "ipython",
    "version": 3
   },
   "file_extension": ".py",
   "mimetype": "text/x-python",
   "name": "python",
   "nbconvert_exporter": "python",
   "pygments_lexer": "ipython3",
   "version": "3.10.0"
  },
  "orig_nbformat": 4
 },
 "nbformat": 4,
 "nbformat_minor": 2
}
