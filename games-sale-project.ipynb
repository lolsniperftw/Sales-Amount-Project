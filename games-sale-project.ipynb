{
 "cells": [
  {
   "cell_type": "code",
   "execution_count": 75,
   "metadata": {},
   "outputs": [],
   "source": [
    "import requests\n",
    "import lxml\n",
    "import pandas as pd\n",
    "from bs4 import BeautifulSoup, SoupStrainer\n",
    "import re"
   ]
  },
  {
   "cell_type": "code",
   "execution_count": 76,
   "metadata": {},
   "outputs": [],
   "source": [
    "def load_to_csv(df: pd.DataFrame, file_name: str):\n",
    "    df.to_csv(file_name, index=False)"
   ]
  },
  {
   "cell_type": "code",
   "execution_count": 77,
   "metadata": {},
   "outputs": [],
   "source": [
    "def load_dataset(file_name: str):\n",
    "    return pd.read_csv(file_name)"
   ]
  },
  {
   "cell_type": "code",
   "execution_count": 78,
   "metadata": {},
   "outputs": [],
   "source": [
    "def ranges_splitter(ranges):\n",
    "    ranges = ranges.replace(\" \",\"\")\n",
    "    min, max = ranges.split('..')\n",
    "    return min.replace(\",\", \"\"), max.replace(\",\", \"\")"
   ]
  },
  {
   "cell_type": "code",
   "execution_count": 79,
   "metadata": {},
   "outputs": [],
   "source": [
    "def get_data_from_steam(steam_store_link: str, s: requests.Session):\n",
    "    only_p = SoupStrainer('div', attrs={\"id\": \"userReviews\"})\n",
    "    request = s.get(steam_store_link)\n",
    "    while request.status_code != 200:\n",
    "        request = s.get(steam_store_link)\n",
    "    soup = BeautifulSoup(request.content, 'lxml', parse_only=only_p)\n",
    "    summary_columns = soup(\"div\", attrs={\"class\": \"summary column\"})\n",
    "    if len(summary_columns) == 1:\n",
    "        s = summary_columns[0].get_text()\n",
    "        if \" \".join(s.split()) == 'No user reviews':\n",
    "            return False\n",
    "        if 'Need more user reviews to generate a score' in  \" \".join(s.split()):\n",
    "            return False\n",
    "        spans = summary_columns[0].findAll(\"span\")\n",
    "    else:\n",
    "        spans = summary_columns[1].findAll(\"span\")\n",
    "    \n",
    "    temp = spans[1].get_text()\n",
    "    temp = re.findall(r\"[\\d']+\", temp)\n",
    "    max_reviewers = int(''.join(temp))\n",
    "    if len(spans) == 3:\n",
    "        review_perc = int(spans[2].get_text().replace(\" \", \"\").split('%')[0].split('-')[1])\n",
    "    else:\n",
    "        review_perc = 0\n",
    "    \n",
    "    return review_perc, max_reviewers"
   ]
  },
  {
   "cell_type": "code",
   "execution_count": 80,
   "metadata": {},
   "outputs": [],
   "source": [
    "def get_data_from_steamspy_game_page(app_id: str, s: requests.Session):\n",
    "    url = f\"https://steamspy.com/{app_id}\"\n",
    "    only_p = SoupStrainer('div', attrs={\"class\": \"panel-body\"})\n",
    "    genre_num = 0\n",
    "    genres = ''\n",
    "    request = s.get(url)\n",
    "    soup = BeautifulSoup(request.content, 'lxml', parse_only=only_p)\n",
    "    p = soup(\"p\")[0]\n",
    "    only_a = p.findAll(\"a\")\n",
    "    for element in only_a:\n",
    "        if '/tag/Software' in element['href']: #detects if a game is a software\n",
    "            return False #not a game\n",
    "        \n",
    "        if element.get_text() == 'Store':\n",
    "             steam_store_link = element['href']\n",
    "             result = get_data_from_steam(steam_store_link, s)\n",
    "             if result == False:\n",
    "                 return False\n",
    "             else:\n",
    "                 review_perc, max_reviewers = result\n",
    "        \n",
    "        if '/genre/' in element['href']:\n",
    "            if genre_num == 0:\n",
    "                genres += element.get_text()\n",
    "                genre_num += 1\n",
    "            else:\n",
    "                genres += ', ' + element.get_text()\n",
    "    return genres, review_perc, max_reviewers"
   ]
  },
  {
   "cell_type": "code",
   "execution_count": 81,
   "metadata": {},
   "outputs": [],
   "source": [
    "def get_data_from_steamspy_into_dataframe(years: list):\n",
    "    s = requests.Session()\n",
    "    game_names = list()\n",
    "    developer = list()\n",
    "    minimum_owners = list()\n",
    "    maximum_owners = list()\n",
    "    prices = list()\n",
    "    genres_list = list()\n",
    "    review_percs = list()\n",
    "    max_reviewers_list = list()\n",
    "    years_list = list()\n",
    "    for year in years:\n",
    "        url = f\"https://steamspy.com/year/{year}\"\n",
    "        request = s.get(url)\n",
    "        only_the_table = SoupStrainer(\"table\")\n",
    "        soup = BeautifulSoup(request.content, 'lxml', parse_only=only_the_table)\n",
    "        tbl = soup(\"table\", attrs={\"class\": \"table\"})[0]\n",
    "        for row in tbl(\"tr\"):\n",
    "            cells = row(\"td\")\n",
    "            if len(cells) > 0:\n",
    "                # Steam deck is a hardware and not a game\n",
    "                print(cells[1].a.get_text())\n",
    "                price = cells[3].get_text()\n",
    "                if price == 'N/A':\n",
    "                    continue\n",
    "                elif price == 'Free':\n",
    "                    price = 0\n",
    "                    prices.append(price)\n",
    "                else:\n",
    "                    price = price.split('$')[1]\n",
    "                    prices.append(float(price))\n",
    "                if 'EA Play' in cells[1].a.get_text():\n",
    "                    continue\n",
    "                if 'Steam Deck' in cells[1].a.get_text():\n",
    "                    continue\n",
    "                result = get_data_from_steamspy_game_page(cells[1].a['href'], s)\n",
    "                if result == False:\n",
    "                    continue\n",
    "                else:\n",
    "                    genres, review_perc, max_reviewers = result\n",
    "                game_names.append(cells[1].a.get_text())\n",
    "                developer.append(cells[7].get_text())\n",
    "                min, max = ranges_splitter(cells[5].get_text())\n",
    "                minimum_owners.append(int(min))\n",
    "                maximum_owners.append(int(max))\n",
    "                genres_list.append(genres)\n",
    "                review_percs.append(float(review_perc / 100))\n",
    "                max_reviewers_list.append(max_reviewers)\n",
    "                years_list.append(year)\n",
    "    \n",
    "    df = pd.DataFrame({'Game Name': game_names,\n",
    "                        'Developer': developer,\n",
    "                        'Release year': years_list,\n",
    "                        'Price': prices,\n",
    "                        'Genres': genres_list,\n",
    "                        'Review %': review_percs,\n",
    "                        'Max Reviewers': max_reviewers_list,\n",
    "                        'Minimum Owners': minimum_owners,\n",
    "                        'Maximum Owners': maximum_owners})\n",
    "    return df\n"
   ]
  },
  {
   "cell_type": "code",
   "execution_count": null,
   "metadata": {},
   "outputs": [],
   "source": [
    "df = get_data_from_steamspy_into_dataframe([2021, 2020, 2019])\n",
    "load_to_csv(df, 'full_dataset.csv')"
   ]
  },
  {
   "cell_type": "code",
   "execution_count": null,
   "metadata": {},
   "outputs": [],
   "source": [
    "df = load_dataset('./full_dataset.csv')\n",
    "df"
   ]
  },
  {
   "cell_type": "code",
   "execution_count": null,
   "metadata": {},
   "outputs": [],
   "source": [
    "# def test(years):\n",
    "#     s = requests.Session()\n",
    "#     for year in years:\n",
    "#         url = f\"https://steamspy.com/year/2020\"\n",
    "#         game_names = list()\n",
    "#         developer = list()\n",
    "#         minimum_owners = list()\n",
    "#         maximum_owners = list()\n",
    "#         prices = list()\n",
    "#         genres_list = list()\n",
    "#         review_percs = list()\n",
    "#         max_reviewers_list = list()\n",
    "#         request = s.get(url)\n",
    "#         only_the_table = SoupStrainer(\"table\")\n",
    "#         soup = BeautifulSoup(request.content, 'lxml', parse_only=only_the_table)\n",
    "#         tbl = soup(\"table\", attrs={\"class\": \"table\"})[0]\n",
    "#         for row in tbl(\"tr\"):\n",
    "#             cells = row(\"td\")\n",
    "#             if len(cells) > 0:\n",
    "#                 # Steam deck is a hardware and not a game\n",
    "#                 print(cells[1].a.get_text())\n",
    "#                 if 'EA Play' in cells[1].a.get_text():\n",
    "#                     print(cells[1].a.get_text())\n",
    "#                     if 'Steam Deck' in cells[1].a.get_text():\n",
    "#                         continue\n",
    "#                     result = get_data_from_steamspy_game_page(cells[1].a['href'], s)\n",
    "#                     if result == False:\n",
    "#                         continue\n",
    "#                     else:\n",
    "#                         genres, review_perc, max_reviewers = result\n",
    "#                     game_names.append(cells[1].a.get_text())\n",
    "#                     developer.append(cells[7].get_text())\n",
    "#                     min, max = ranges_splitter(cells[5].get_text())\n",
    "#                     price = cells[3].get_text()\n",
    "#                     if price == 'N/A':\n",
    "#                         price = None\n",
    "#                         prices.append(price)\n",
    "#                     elif price == 'Free':\n",
    "#                         price = 0\n",
    "#                         prices.append(price)\n",
    "#                     else:\n",
    "#                         price = price.split('$')[1]\n",
    "#                         prices.append(float(price))\n",
    "#                     minimum_owners.append(int(min))\n",
    "#                     maximum_owners.append(int(max))\n",
    "#                     genres_list.append(genres)\n",
    "#                     review_percs.append(float(review_perc / 100))\n",
    "#                     max_reviewers_list.append(max_reviewers)\n",
    "    \n",
    "#     df = pd.DataFrame({'Game Name': game_names,\n",
    "#                        'Developer': developer,\n",
    "#                        'Release year': year,\n",
    "#                        'Price': prices,\n",
    "#                        'Genres': genres_list,\n",
    "#                        'Review %': review_percs,\n",
    "#                        'Max Reviewers': max_reviewers_list,\n",
    "#                        'Minimum Owners': minimum_owners,\n",
    "#                        'Maximum Owners': maximum_owners})\n",
    "#     return df\n",
    "    "
   ]
  },
  {
   "cell_type": "code",
   "execution_count": null,
   "metadata": {},
   "outputs": [],
   "source": [
    "# df = test([2020])\n",
    "# df"
   ]
  },
  {
   "cell_type": "code",
   "execution_count": null,
   "metadata": {},
   "outputs": [],
   "source": [
    "# df.info()"
   ]
  },
  {
   "cell_type": "code",
   "execution_count": null,
   "metadata": {},
   "outputs": [],
   "source": [
    "# df.dropna()"
   ]
  },
  {
   "cell_type": "code",
   "execution_count": null,
   "metadata": {},
   "outputs": [],
   "source": []
  }
 ],
 "metadata": {
  "interpreter": {
   "hash": "0ee7d49c30ccf2d28bf30359e0d545265a64f91f74ae74a2132c543c713b7482"
  },
  "kernelspec": {
   "display_name": "Python 3.10.0 64-bit",
   "language": "python",
   "name": "python3"
  },
  "language_info": {
   "codemirror_mode": {
    "name": "ipython",
    "version": 3
   },
   "file_extension": ".py",
   "mimetype": "text/x-python",
   "name": "python",
   "nbconvert_exporter": "python",
   "pygments_lexer": "ipython3",
   "version": "3.10.0"
  },
  "orig_nbformat": 4
 },
 "nbformat": 4,
 "nbformat_minor": 2
}
